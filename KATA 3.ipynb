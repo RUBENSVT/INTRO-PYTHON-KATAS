{
 "cells": [
  {
   "cell_type": "markdown",
   "metadata": {},
   "source": [
    "## KATA 3"
   ]
  },
  {
   "cell_type": "code",
   "execution_count": 16,
   "metadata": {},
   "outputs": [
    {
     "name": "stdout",
     "output_type": "stream",
     "text": [
      "a salvo\n"
     ]
    }
   ],
   "source": [
    "asteroide=23\n",
    "if(asteroide>25):\n",
    "    print(\"¡cuidado rey! puede que este cerca un asteroide en el cielo \")\n",
    "else:\n",
    "    print(\"a salvo\")\n"
   ]
  },
  {
   "cell_type": "code",
   "execution_count": 36,
   "metadata": {},
   "outputs": [
    {
     "name": "stdout",
     "output_type": "stream",
     "text": [
      "Rayo de luz\n"
     ]
    }
   ],
   "source": [
    "asteroide=21\n",
    "if(asteroide>20):\n",
    "    print(\"Rayo de luz\")\n",
    "elif(asteroide==20):\n",
    "    print(\"cuidado hay un rayo de luz en el cielo \")\n",
    "else:\n",
    "    print(\"estamos a salvo\")"
   ]
  },
  {
   "cell_type": "code",
   "execution_count": 40,
   "metadata": {},
   "outputs": [
    {
     "name": "stdout",
     "output_type": "stream",
     "text": [
      "todo despejado\n"
     ]
    }
   ],
   "source": [
    "velocidad_asteroide=10\n",
    "tamaño_asteroide=10\n",
    "if(velocidad_asteroide>25 and tamaño_asteroide>25):\n",
    "    print(\"cuidado se acerca un asteroide\")\n",
    "elif(tamaño_asteroide>=25):\n",
    "    print(\"asteroide acercandose\")\n",
    "elif(velocidad_asteroide>=20):\n",
    "    print(\"cuidado hay un rayo de luz en el cielo\")\n",
    "else:\n",
    "    print(\"todo despejado\")"
   ]
  },
  {
   "cell_type": "code",
   "execution_count": null,
   "metadata": {},
   "outputs": [],
   "source": []
  }
 ],
 "metadata": {
  "interpreter": {
   "hash": "40999cb836fbbe186b45335c8747bf5629cd40a246000c0d2fb2e6d5fb7e246f"
  },
  "kernelspec": {
   "display_name": "Python 3.10.2 64-bit",
   "language": "python",
   "name": "python3"
  },
  "language_info": {
   "codemirror_mode": {
    "name": "ipython",
    "version": 3
   },
   "file_extension": ".py",
   "mimetype": "text/x-python",
   "name": "python",
   "nbconvert_exporter": "python",
   "pygments_lexer": "ipython3",
   "version": "3.10.2"
  },
  "orig_nbformat": 4
 },
 "nbformat": 4,
 "nbformat_minor": 2
}
