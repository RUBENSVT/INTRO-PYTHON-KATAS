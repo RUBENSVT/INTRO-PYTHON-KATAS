{
 "cells": [
  {
   "cell_type": "markdown",
   "metadata": {},
   "source": [
    "## KATA 9 "
   ]
  },
  {
   "cell_type": "markdown",
   "metadata": {},
   "source": [
    "EJERCICIO 1 "
   ]
  },
  {
   "cell_type": "code",
   "execution_count": 13,
   "metadata": {},
   "outputs": [],
   "source": [
    "def combustible_lecturas(magna, premium ,diesel):\n",
    "    total_combustible=(magna + premium + diesel)/3\n",
    "    return f\"\"\"Reporte de combustible:\n",
    "    total de combustible: {total_combustible}%\n",
    "    magna: {magna}%\n",
    "    premium: {premium}%\n",
    "    diesel: {diesel}%\n",
    "    \"\"\"\n",
    "    print(combustible_lecturas(100,120,150))"
   ]
  },
  {
   "cell_type": "code",
   "execution_count": 14,
   "metadata": {},
   "outputs": [],
   "source": [
    "def combustible(values):\n",
    "    total=sum(values)\n",
    "    numero_de_elementos=len(values)\n",
    "    return total/ numero_de_elementos\n"
   ]
  },
  {
   "cell_type": "code",
   "execution_count": 16,
   "metadata": {},
   "outputs": [
    {
     "data": {
      "text/plain": [
       "123.33333333333333"
      ]
     },
     "execution_count": 16,
     "metadata": {},
     "output_type": "execute_result"
    }
   ],
   "source": [
    "combustible([100,120,150])"
   ]
  },
  {
   "cell_type": "code",
   "execution_count": 18,
   "metadata": {},
   "outputs": [],
   "source": [
    "def combustible_lecturas(magna, premium ,diesel):\n",
    "    total_combustible=(magna + premium + diesel)\n",
    "    return f\"\"\"Reporte de combustible:\n",
    "    total de combustible: {combustible([magna, premium ,diesel])}%\n",
    "    magna: {magna}%\n",
    "    premium: {premium}%\n",
    "    diesel: {diesel}%\n",
    "    \"\"\""
   ]
  },
  {
   "cell_type": "code",
   "execution_count": 22,
   "metadata": {},
   "outputs": [
    {
     "name": "stdout",
     "output_type": "stream",
     "text": [
      "Reporte de combustible:\n",
      "    total de combustible: 95.66666666666667%\n",
      "    magna: 100%\n",
      "    premium: 99%\n",
      "    diesel: 88%\n",
      "    \n"
     ]
    }
   ],
   "source": [
    "print(combustible_lecturas(100,99,88))"
   ]
  },
  {
   "cell_type": "markdown",
   "metadata": {},
   "source": [
    "Ejercicio 2"
   ]
  },
  {
   "cell_type": "code",
   "execution_count": 34,
   "metadata": {},
   "outputs": [
    {
     "name": "stdout",
     "output_type": "stream",
     "text": [
      "\n",
      "    Mision hacia la Luna\n",
      "    Tiempo total de vuelo:65 minutos\n",
      "    commbustible total restante:500000 gallones\n",
      "    \n"
     ]
    }
   ],
   "source": [
    "def reporte_mision(tiempo_de_lanzamiento,tiempo_vuelo,destino,tanque_externo,tanque_interno):\n",
    "    return f\"\"\"\n",
    "    Mision hacia la {destino}\n",
    "    Tiempo total de vuelo:{tiempo_de_lanzamiento+tiempo_vuelo} minutos\n",
    "    commbustible total restante:{tanque_externo+tanque_interno} gallones\n",
    "    \"\"\"\n",
    "print(reporte_mision(14,51,\"Luna\",200000,300000))\n"
   ]
  },
  {
   "cell_type": "code",
   "execution_count": 33,
   "metadata": {},
   "outputs": [
    {
     "name": "stdout",
     "output_type": "stream",
     "text": [
      "\n",
      "    Mision hacia la Luna\n",
      "    Total de tiempo de vuelo:76 minutos\n",
      "    Reserva de combustible: 230000\n",
      "    \n"
     ]
    }
   ],
   "source": [
    "def reporte_mision(destino,*minutos,**reserva_gasolina):\n",
    "    return f\"\"\"\n",
    "    Mision hacia la {destino}\n",
    "    Total de tiempo de vuelo:{sum(minutos)} minutos\n",
    "    Reserva de combustible: {sum(reserva_gasolina.values())}\n",
    "    \"\"\"\n",
    "print(reporte_mision(\"Luna\",10,15,51, main=30000,external=200000))"
   ]
  },
  {
   "cell_type": "code",
   "execution_count": 42,
   "metadata": {},
   "outputs": [
    {
     "name": "stdout",
     "output_type": "stream",
     "text": [
      "\n",
      "    Mision hacia la Luna\n",
      "    Total de time de vuelo: 74 minutos\n",
      "    Reserva de combustible: 500000\n",
      "    \n"
     ]
    }
   ],
   "source": [
    "def reporte_mision(destino, *minutos, **reserva_gasolina):\n",
    "    return  f\"\"\"\n",
    "    Mision hacia la {destino}\n",
    "    Total de time de vuelo: {sum(minutos)} minutos\n",
    "    Reserva de combustible: {sum(reserva_gasolina.values())}\n",
    "    \"\"\"\n",
    "    for tanque_externo, gallones in reserva_gasolina.items():\n",
    "        reporte_mision += f\"{tanque_externo} tanque --> {gallones} gallons left\\n\"\n",
    "    return reporte_mision\n",
    "\n",
    "print(reporte_mision(\"Luna\", 8, 11, 55, main=300000, external=200000))"
   ]
  },
  {
   "cell_type": "code",
   "execution_count": null,
   "metadata": {},
   "outputs": [],
   "source": []
  }
 ],
 "metadata": {
  "interpreter": {
   "hash": "40999cb836fbbe186b45335c8747bf5629cd40a246000c0d2fb2e6d5fb7e246f"
  },
  "kernelspec": {
   "display_name": "Python 3.10.2 64-bit",
   "language": "python",
   "name": "python3"
  },
  "language_info": {
   "codemirror_mode": {
    "name": "ipython",
    "version": 3
   },
   "file_extension": ".py",
   "mimetype": "text/x-python",
   "name": "python",
   "nbconvert_exporter": "python",
   "pygments_lexer": "ipython3",
   "version": "3.10.2"
  },
  "orig_nbformat": 4
 },
 "nbformat": 4,
 "nbformat_minor": 2
}
