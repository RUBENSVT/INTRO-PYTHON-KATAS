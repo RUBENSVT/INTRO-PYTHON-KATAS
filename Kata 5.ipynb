{
 "cells": [
  {
   "cell_type": "markdown",
   "metadata": {},
   "source": [
    "## KATA 5"
   ]
  },
  {
   "cell_type": "markdown",
   "metadata": {},
   "source": [
    "Ejercicio 1"
   ]
  },
  {
   "cell_type": "code",
   "execution_count": 3,
   "metadata": {},
   "outputs": [
    {
     "name": "stdout",
     "output_type": "stream",
     "text": [
      "628949330\n",
      "390577533.93\n"
     ]
    }
   ],
   "source": [
    "tierra=149597870\n",
    "jupiter=778547200 \n",
    "distancia_km= abs (tierra - jupiter)\n",
    "print(distancia_km)\n",
    "\n",
    "distancia_mi= distancia_km*0.621\n",
    "print(distancia_mi)"
   ]
  },
  {
   "cell_type": "markdown",
   "metadata": {},
   "source": [
    "Ejercicio 2"
   ]
  },
  {
   "cell_type": "code",
   "execution_count": 8,
   "metadata": {},
   "outputs": [
    {
     "name": "stdout",
     "output_type": "stream",
     "text": [
      "Hola este es un conversor de planetas \n",
      "valor guardado\n",
      "valor guardado\n",
      "20\n",
      "12.42\n"
     ]
    }
   ],
   "source": [
    "print(\"Hola este es un conversor de planetas \")\n",
    "\n",
    "planeta_1=input(\"ingresar datos\")\n",
    "print(\"valor guardado\")\n",
    "planeta_2=input(\"ingresar datos\")\n",
    "print(\"valor guardado\")\n",
    "planeta_1=int(planeta_1)\n",
    "planeta_2=int(planeta_2)\n",
    "distancia_km=abs(planeta_2-planeta_1)\n",
    "print(distancia_km)\n",
    "distancia_mi=distancia_km*0.621\n",
    "print(abs(distancia_mi))"
   ]
  },
  {
   "cell_type": "code",
   "execution_count": null,
   "metadata": {},
   "outputs": [],
   "source": []
  }
 ],
 "metadata": {
  "interpreter": {
   "hash": "40999cb836fbbe186b45335c8747bf5629cd40a246000c0d2fb2e6d5fb7e246f"
  },
  "kernelspec": {
   "display_name": "Python 3.10.2 64-bit",
   "language": "python",
   "name": "python3"
  },
  "language_info": {
   "codemirror_mode": {
    "name": "ipython",
    "version": 3
   },
   "file_extension": ".py",
   "mimetype": "text/x-python",
   "name": "python",
   "nbconvert_exporter": "python",
   "pygments_lexer": "ipython3",
   "version": "3.10.2"
  },
  "orig_nbformat": 4
 },
 "nbformat": 4,
 "nbformat_minor": 2
}
